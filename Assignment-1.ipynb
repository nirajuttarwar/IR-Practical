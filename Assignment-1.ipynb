{
 "cells": [
  {
   "cell_type": "markdown",
   "id": "75af4e1a",
   "metadata": {},
   "source": [
    "# IR Assignment-1"
   ]
  },
  {
   "cell_type": "code",
   "execution_count": 2,
   "id": "90c94a8f",
   "metadata": {},
   "outputs": [],
   "source": [
    "from warnings import filterwarnings\n",
    "filterwarnings('ignore')"
   ]
  },
  {
   "cell_type": "markdown",
   "id": "ee7aa726",
   "metadata": {},
   "source": [
    "# Importing Libraries"
   ]
  },
  {
   "cell_type": "code",
   "execution_count": 3,
   "id": "8e76c8e7",
   "metadata": {},
   "outputs": [],
   "source": [
    "import nltk\n",
    "from nltk.corpus import stopwords\n",
    "from nltk.stem import PorterStemmer\n",
    "from nltk.tokenize import word_tokenize"
   ]
  },
  {
   "cell_type": "code",
   "execution_count": 4,
   "id": "74851222",
   "metadata": {},
   "outputs": [
    {
     "name": "stderr",
     "output_type": "stream",
     "text": [
      "[nltk_data] Downloading package punkt to C:\\Users\\Pravin\n",
      "[nltk_data]     Bhise\\AppData\\Roaming\\nltk_data...\n",
      "[nltk_data]   Package punkt is already up-to-date!\n",
      "[nltk_data] Downloading package stopwords to C:\\Users\\Pravin\n",
      "[nltk_data]     Bhise\\AppData\\Roaming\\nltk_data...\n",
      "[nltk_data]   Package stopwords is already up-to-date!\n"
     ]
    },
    {
     "data": {
      "text/plain": [
       "True"
      ]
     },
     "execution_count": 4,
     "metadata": {},
     "output_type": "execute_result"
    }
   ],
   "source": [
    "nltk.download('punkt')\n",
    "nltk.download('stopwords')"
   ]
  },
  {
   "cell_type": "code",
   "execution_count": 5,
   "id": "aa2ce7a2",
   "metadata": {},
   "outputs": [],
   "source": [
    "text = \"The universe is a vast and mysterious expanse. Astronomers study celestial bodies like stars, planets, and galaxies to unravel its secrets. With advanced telescopes and technology, we can glimpse into the distant past and learn about the origins of our cosmos..\"\n"
   ]
  },
  {
   "cell_type": "markdown",
   "id": "c03b41cf",
   "metadata": {},
   "source": [
    "# Tokenize the text"
   ]
  },
  {
   "cell_type": "code",
   "execution_count": 6,
   "id": "4a914718",
   "metadata": {},
   "outputs": [
    {
     "data": {
      "text/plain": [
       "['The',\n",
       " 'universe',\n",
       " 'is',\n",
       " 'a',\n",
       " 'vast',\n",
       " 'and',\n",
       " 'mysterious',\n",
       " 'expanse',\n",
       " '.',\n",
       " 'Astronomers',\n",
       " 'study',\n",
       " 'celestial',\n",
       " 'bodies',\n",
       " 'like',\n",
       " 'stars',\n",
       " ',',\n",
       " 'planets',\n",
       " ',',\n",
       " 'and',\n",
       " 'galaxies',\n",
       " 'to',\n",
       " 'unravel',\n",
       " 'its',\n",
       " 'secrets',\n",
       " '.',\n",
       " 'With',\n",
       " 'advanced',\n",
       " 'telescopes',\n",
       " 'and',\n",
       " 'technology',\n",
       " ',',\n",
       " 'we',\n",
       " 'can',\n",
       " 'glimpse',\n",
       " 'into',\n",
       " 'the',\n",
       " 'distant',\n",
       " 'past',\n",
       " 'and',\n",
       " 'learn',\n",
       " 'about',\n",
       " 'the',\n",
       " 'origins',\n",
       " 'of',\n",
       " 'our',\n",
       " 'cosmos',\n",
       " '..']"
      ]
     },
     "execution_count": 6,
     "metadata": {},
     "output_type": "execute_result"
    }
   ],
   "source": [
    "words = word_tokenize(text)\n",
    "words"
   ]
  },
  {
   "cell_type": "markdown",
   "id": "1196798b",
   "metadata": {},
   "source": [
    "# Remove punctuation and convert to lowercase"
   ]
  },
  {
   "cell_type": "code",
   "execution_count": 7,
   "id": "363cc526",
   "metadata": {},
   "outputs": [
    {
     "data": {
      "text/plain": [
       "['the',\n",
       " 'universe',\n",
       " 'is',\n",
       " 'a',\n",
       " 'vast',\n",
       " 'and',\n",
       " 'mysterious',\n",
       " 'expanse',\n",
       " 'astronomers',\n",
       " 'study',\n",
       " 'celestial',\n",
       " 'bodies',\n",
       " 'like',\n",
       " 'stars',\n",
       " 'planets',\n",
       " 'and',\n",
       " 'galaxies',\n",
       " 'to',\n",
       " 'unravel',\n",
       " 'its',\n",
       " 'secrets',\n",
       " 'with',\n",
       " 'advanced',\n",
       " 'telescopes',\n",
       " 'and',\n",
       " 'technology',\n",
       " 'we',\n",
       " 'can',\n",
       " 'glimpse',\n",
       " 'into',\n",
       " 'the',\n",
       " 'distant',\n",
       " 'past',\n",
       " 'and',\n",
       " 'learn',\n",
       " 'about',\n",
       " 'the',\n",
       " 'origins',\n",
       " 'of',\n",
       " 'our',\n",
       " 'cosmos']"
      ]
     },
     "execution_count": 7,
     "metadata": {},
     "output_type": "execute_result"
    }
   ],
   "source": [
    "words = [word.lower() for word in words if word.isalnum()]\n",
    "words"
   ]
  },
  {
   "cell_type": "markdown",
   "id": "d6708ac4",
   "metadata": {},
   "source": [
    "# Remove stop words"
   ]
  },
  {
   "cell_type": "code",
   "execution_count": 8,
   "id": "9aba7530",
   "metadata": {},
   "outputs": [
    {
     "data": {
      "text/plain": [
       "['universe',\n",
       " 'vast',\n",
       " 'mysterious',\n",
       " 'expanse',\n",
       " 'astronomers',\n",
       " 'study',\n",
       " 'celestial',\n",
       " 'bodies',\n",
       " 'like',\n",
       " 'stars',\n",
       " 'planets',\n",
       " 'galaxies',\n",
       " 'unravel',\n",
       " 'secrets',\n",
       " 'advanced',\n",
       " 'telescopes',\n",
       " 'technology',\n",
       " 'glimpse',\n",
       " 'distant',\n",
       " 'past',\n",
       " 'learn',\n",
       " 'origins',\n",
       " 'cosmos']"
      ]
     },
     "execution_count": 8,
     "metadata": {},
     "output_type": "execute_result"
    }
   ],
   "source": [
    "stop_words = set(stopwords.words('english'))\n",
    "words = [word for word in words if word not in stop_words]\n",
    "words"
   ]
  },
  {
   "cell_type": "markdown",
   "id": "9ce36865",
   "metadata": {},
   "source": [
    "# Apply stemming"
   ]
  },
  {
   "cell_type": "code",
   "execution_count": 11,
   "id": "7b0f1d50",
   "metadata": {},
   "outputs": [],
   "source": [
    "stemmer = PorterStemmer()\n",
    "stemmed_words = [stemmer.stem(word) for word in words]\n",
    "    \n",
    "preprocessed_text = ' '.join(stemmed_words)"
   ]
  },
  {
   "cell_type": "markdown",
   "id": "33a7d4aa",
   "metadata": {},
   "source": [
    "# Preprocessed Text"
   ]
  },
  {
   "cell_type": "code",
   "execution_count": 12,
   "id": "e6b42472",
   "metadata": {},
   "outputs": [
    {
     "name": "stdout",
     "output_type": "stream",
     "text": [
      "Original Text: The universe is a vast and mysterious expanse. Astronomers study celestial bodies like stars, planets, and galaxies to unravel its secrets. With advanced telescopes and technology, we can glimpse into the distant past and learn about the origins of our cosmos..\n",
      "Preprocessed Text: univers vast mysteri expans astronom studi celesti bodi like star planet galaxi unravel secret advanc telescop technolog glimps distant past learn origin cosmo\n"
     ]
    }
   ],
   "source": [
    "print(\"Original Text:\", text)\n",
    "print(\"Preprocessed Text:\", preprocessed_text)"
   ]
  },
  {
   "cell_type": "code",
   "execution_count": null,
   "id": "6d1b7d2b",
   "metadata": {},
   "outputs": [],
   "source": []
  }
 ],
 "metadata": {
  "kernelspec": {
   "display_name": "Python 3 (ipykernel)",
   "language": "python",
   "name": "python3"
  },
  "language_info": {
   "codemirror_mode": {
    "name": "ipython",
    "version": 3
   },
   "file_extension": ".py",
   "mimetype": "text/x-python",
   "name": "python",
   "nbconvert_exporter": "python",
   "pygments_lexer": "ipython3",
   "version": "3.9.13"
  }
 },
 "nbformat": 4,
 "nbformat_minor": 5
}
