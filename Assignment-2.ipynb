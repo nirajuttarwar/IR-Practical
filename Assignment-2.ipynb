{
 "cells": [
  {
   "cell_type": "markdown",
   "id": "e5a8fb0c",
   "metadata": {},
   "source": [
    "# IR Assignment-2"
   ]
  },
  {
   "cell_type": "code",
   "execution_count": 1,
   "id": "80ec9cba",
   "metadata": {},
   "outputs": [],
   "source": [
    "from warnings import filterwarnings\n",
    "filterwarnings('ignore')"
   ]
  },
  {
   "cell_type": "code",
   "execution_count": 4,
   "id": "50529c15",
   "metadata": {},
   "outputs": [],
   "source": [
    "import re\n",
    "from collections import defaultdict"
   ]
  },
  {
   "cell_type": "markdown",
   "id": "b2aef26b",
   "metadata": {},
   "source": [
    "# Sample documents"
   ]
  },
  {
   "cell_type": "code",
   "execution_count": 7,
   "id": "6380cf62",
   "metadata": {},
   "outputs": [
    {
     "data": {
      "text/plain": [
       "{1: 'The quick brown fox jumps over the lazy dog',\n",
       " 2: 'A journey of a thousand miles begins with a single step',\n",
       " 3: 'The early bird catches the worm',\n",
       " 4: 'Actions speak louder than words',\n",
       " 5: 'Practice makes perfect'}"
      ]
     },
     "execution_count": 7,
     "metadata": {},
     "output_type": "execute_result"
    }
   ],
   "source": [
    "documents = {\n",
    "    1: \"The quick brown fox jumps over the lazy dog\",\n",
    "    2: \"A journey of a thousand miles begins with a single step\",\n",
    "    3: \"The early bird catches the worm\",\n",
    "    4: \"Actions speak louder than words\",\n",
    "    5: \"Practice makes perfect\"\n",
    "}\n",
    "documents"
   ]
  },
  {
   "cell_type": "markdown",
   "id": "2102538f",
   "metadata": {},
   "source": [
    "# Create an inverted index"
   ]
  },
  {
   "cell_type": "code",
   "execution_count": 8,
   "id": "18634bf6",
   "metadata": {},
   "outputs": [
    {
     "data": {
      "text/plain": [
       "defaultdict(list,\n",
       "            {'the': [1, 1, 3, 3],\n",
       "             'quick': [1],\n",
       "             'brown': [1],\n",
       "             'fox': [1],\n",
       "             'jumps': [1],\n",
       "             'over': [1],\n",
       "             'lazy': [1],\n",
       "             'dog': [1],\n",
       "             'a': [2, 2, 2],\n",
       "             'journey': [2],\n",
       "             'of': [2],\n",
       "             'thousand': [2],\n",
       "             'miles': [2],\n",
       "             'begins': [2],\n",
       "             'with': [2],\n",
       "             'single': [2],\n",
       "             'step': [2],\n",
       "             'early': [3],\n",
       "             'bird': [3],\n",
       "             'catches': [3],\n",
       "             'worm': [3],\n",
       "             'actions': [4],\n",
       "             'speak': [4],\n",
       "             'louder': [4],\n",
       "             'than': [4],\n",
       "             'words': [4],\n",
       "             'practice': [5],\n",
       "             'makes': [5],\n",
       "             'perfect': [5]})"
      ]
     },
     "execution_count": 8,
     "metadata": {},
     "output_type": "execute_result"
    }
   ],
   "source": [
    "def create_inverted_index(documents):\n",
    "    inverted_index = defaultdict(list)\n",
    "    for doc_id, text in documents.items():\n",
    "        words = re.findall(r'\\w+', text.lower())\n",
    "        for word in words:\n",
    "            inverted_index[word].append(doc_id)\n",
    "    return inverted_index\n",
    "\n",
    "inverted_index = create_inverted_index(documents)\n",
    "inverted_index"
   ]
  },
  {
   "cell_type": "markdown",
   "id": "c80b720a",
   "metadata": {},
   "source": [
    "# Perform retrieval using inverted index"
   ]
  },
  {
   "cell_type": "code",
   "execution_count": 9,
   "id": "da80265f",
   "metadata": {},
   "outputs": [],
   "source": [
    "def retrieve_documents(query, inverted_index):\n",
    "    query_words = re.findall(r'\\w+', query.lower())\n",
    "    result_docs = set()\n",
    "    for word in query_words:\n",
    "        if word in inverted_index:\n",
    "            result_docs.update(inverted_index[word])\n",
    "    return result_docs"
   ]
  },
  {
   "cell_type": "markdown",
   "id": "7b4acd47",
   "metadata": {},
   "source": [
    "# Example queries"
   ]
  },
  {
   "cell_type": "code",
   "execution_count": 10,
   "id": "147dbf38",
   "metadata": {},
   "outputs": [
    {
     "name": "stdout",
     "output_type": "stream",
     "text": [
      "Documents containing 'the': {1, 3}\n",
      "Documents containing 'brown fox': {1}\n",
      "Documents containing 'actions speak': {4}\n"
     ]
    }
   ],
   "source": [
    "query1 = \"the\"\n",
    "query2 = \"brown fox\"\n",
    "query3 = \"actions speak\"\n",
    "\n",
    "result1 = retrieve_documents(query1, inverted_index)\n",
    "result2 = retrieve_documents(query2, inverted_index)\n",
    "result3 = retrieve_documents(query3, inverted_index)\n",
    "\n",
    "print(f\"Documents containing '{query1}': {result1}\")\n",
    "print(f\"Documents containing '{query2}': {result2}\")\n",
    "print(f\"Documents containing '{query3}': {result3}\")"
   ]
  },
  {
   "cell_type": "code",
   "execution_count": null,
   "id": "283b8f1c",
   "metadata": {},
   "outputs": [],
   "source": []
  }
 ],
 "metadata": {
  "kernelspec": {
   "display_name": "Python 3 (ipykernel)",
   "language": "python",
   "name": "python3"
  },
  "language_info": {
   "codemirror_mode": {
    "name": "ipython",
    "version": 3
   },
   "file_extension": ".py",
   "mimetype": "text/x-python",
   "name": "python",
   "nbconvert_exporter": "python",
   "pygments_lexer": "ipython3",
   "version": "3.9.13"
  }
 },
 "nbformat": 4,
 "nbformat_minor": 5
}
